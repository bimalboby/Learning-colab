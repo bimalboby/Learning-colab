{
  "nbformat": 4,
  "nbformat_minor": 0,
  "metadata": {
    "colab": {
      "provenance": [],
      "authorship_tag": "ABX9TyNGDvEV4WvBFGUBxa5iTWY3",
      "include_colab_link": true
    },
    "kernelspec": {
      "name": "python3",
      "display_name": "Python 3"
    },
    "language_info": {
      "name": "python"
    }
  },
  "cells": [
    {
      "cell_type": "markdown",
      "metadata": {
        "id": "view-in-github",
        "colab_type": "text"
      },
      "source": [
        "<a href=\"https://colab.research.google.com/github/bimalboby/Learning-colab/blob/main/Untitled0.ipynb\" target=\"_parent\"><img src=\"https://colab.research.google.com/assets/colab-badge.svg\" alt=\"Open In Colab\"/></a>"
      ]
    },
    {
      "cell_type": "markdown",
      "source": [
        "imp data types are : String , list ,tuple,set, dictionary"
      ],
      "metadata": {
        "id": "ZWQy78hhnTwI"
      }
    },
    {
      "cell_type": "code",
      "execution_count": 3,
      "metadata": {
        "id": "OT5wbPdlZULW",
        "colab": {
          "base_uri": "https://localhost:8080/"
        },
        "outputId": "f8924519-a887-44a5-e253-501ccf893ca7"
      },
      "outputs": [
        {
          "output_type": "stream",
          "name": "stdout",
          "text": [
            "Test--\n"
          ]
        }
      ],
      "source": [
        "print(\"Test--\")\n",
        "a=3\n",
        "if a>18:\n",
        "  print(\"Done\")\n",
        "\n",
        "\n",
        ""
      ]
    },
    {
      "cell_type": "code",
      "source": [
        "s=[\"a\",\"b\",\"c\"]\n",
        "s.insert(1,\"aaaa\")\n",
        "print(s)"
      ],
      "metadata": {
        "colab": {
          "base_uri": "https://localhost:8080/"
        },
        "id": "AYdA5N1vfP4g",
        "outputId": "87a84d79-703e-4cce-afee-974419879afd"
      },
      "execution_count": 9,
      "outputs": [
        {
          "output_type": "stream",
          "name": "stdout",
          "text": [
            "['a', 'aaaa', 'b', 'c']\n"
          ]
        }
      ]
    },
    {
      "cell_type": "code",
      "source": [
        "if \"aamd\" in s:\n",
        "  print(\"found\")\n",
        "elif(\"a\" in s):\n",
        "  print(\"a is there \")\n",
        "\n",
        "else:\n",
        "  print(\"not found\")"
      ],
      "metadata": {
        "colab": {
          "base_uri": "https://localhost:8080/"
        },
        "id": "WDGwep8uhT2H",
        "outputId": "8572ed4a-1903-4de0-d955-dad75368a850"
      },
      "execution_count": 32,
      "outputs": [
        {
          "output_type": "stream",
          "name": "stdout",
          "text": [
            "a is there \n"
          ]
        }
      ]
    },
    {
      "cell_type": "code",
      "source": [
        "import random as r\n",
        "print(r.choice(s))\n",
        "r.seed(10)\n",
        "print(r.random())"
      ],
      "metadata": {
        "colab": {
          "base_uri": "https://localhost:8080/"
        },
        "id": "iTCmodmNiLuC",
        "outputId": "ce55e7d4-bda1-4bc1-94f3-c9465183822d"
      },
      "execution_count": 27,
      "outputs": [
        {
          "output_type": "stream",
          "name": "stdout",
          "text": [
            "c\n",
            "0.5714025946899135\n"
          ]
        }
      ]
    },
    {
      "cell_type": "code",
      "source": [
        "i=input(\"Spin ? y: YES n:NO\")\n",
        "if i==\"y\":\n",
        "  print(r.choice(s))\n",
        "else:\n",
        "  print(\"No\")"
      ],
      "metadata": {
        "colab": {
          "base_uri": "https://localhost:8080/"
        },
        "id": "pXB6WW-8oIHN",
        "outputId": "2608bee8-5f78-439a-e1e4-85c4b78a1b1b"
      },
      "execution_count": 38,
      "outputs": [
        {
          "output_type": "stream",
          "name": "stdout",
          "text": [
            "Spin ? y: YES n:NOy\n",
            "a\n"
          ]
        }
      ]
    },
    {
      "cell_type": "code",
      "source": [
        "code=[\"NEW\",\"HOLI\",\"SALE\"]\n",
        "prices=[100,400,654]\n",
        "c=input(\"Enter code :\")\n",
        "if c in code:\n",
        "  print(\"valid\")\n",
        "  print( prices[code.index(c)])\n",
        "else:\n",
        "  print(\"not valid\")"
      ],
      "metadata": {
        "colab": {
          "base_uri": "https://localhost:8080/"
        },
        "id": "oXv6kX1CqmDE",
        "outputId": "0e9aa6a7-fe74-42b7-d88b-69ff2c431e2f"
      },
      "execution_count": 45,
      "outputs": [
        {
          "output_type": "stream",
          "name": "stdout",
          "text": [
            "Enter code :HOLI\n",
            "valid\n",
            "400\n"
          ]
        }
      ]
    },
    {
      "cell_type": "code",
      "source": [
        "i=int(input(\"Enter\"))\n",
        "print(type(i))"
      ],
      "metadata": {
        "id": "WvltItuWsbLe"
      },
      "execution_count": null,
      "outputs": []
    }
  ]
}