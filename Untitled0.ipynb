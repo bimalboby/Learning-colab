{
  "nbformat": 4,
  "nbformat_minor": 0,
  "metadata": {
    "colab": {
      "provenance": [],
      "authorship_tag": "ABX9TyPKMr+LCYthhSlJt362juft",
      "include_colab_link": true
    },
    "kernelspec": {
      "name": "python3",
      "display_name": "Python 3"
    },
    "language_info": {
      "name": "python"
    }
  },
  "cells": [
    {
      "cell_type": "markdown",
      "metadata": {
        "id": "view-in-github",
        "colab_type": "text"
      },
      "source": [
        "<a href=\"https://colab.research.google.com/github/bimalboby/Learning-colab/blob/main/Untitled0.ipynb\" target=\"_parent\"><img src=\"https://colab.research.google.com/assets/colab-badge.svg\" alt=\"Open In Colab\"/></a>"
      ]
    },
    {
      "cell_type": "markdown",
      "source": [
        "imp data types are : String , list ,tuple,set, dictionary"
      ],
      "metadata": {
        "id": "ZWQy78hhnTwI"
      }
    },
    {
      "cell_type": "code",
      "execution_count": 53,
      "metadata": {
        "id": "OT5wbPdlZULW",
        "colab": {
          "base_uri": "https://localhost:8080/"
        },
        "outputId": "1c4b3b6a-c266-4aab-bb80-080a757e339e"
      },
      "outputs": [
        {
          "output_type": "stream",
          "name": "stdout",
          "text": [
            "Test--\n"
          ]
        }
      ],
      "source": [
        "print(\"Test--\")\n",
        "a=3\n",
        "if a>18:\n",
        "  print(\"Done\")\n",
        "\n",
        "\n",
        ""
      ]
    },
    {
      "cell_type": "code",
      "source": [
        "s=[\"a\",\"b\",\"c\"]\n",
        "s.insert(1,\"aaaa\")\n",
        "print(s)"
      ],
      "metadata": {
        "colab": {
          "base_uri": "https://localhost:8080/"
        },
        "id": "AYdA5N1vfP4g",
        "outputId": "2bdead5e-5cd3-4b4d-c95b-f0866c7fefb4"
      },
      "execution_count": 54,
      "outputs": [
        {
          "output_type": "stream",
          "name": "stdout",
          "text": [
            "['a', 'aaaa', 'b', 'c']\n"
          ]
        }
      ]
    },
    {
      "cell_type": "code",
      "source": [
        "if \"aamd\" in s:\n",
        "  print(\"found\")\n",
        "elif(\"a\" in s):\n",
        "  print(\"a is there \")\n",
        "\n",
        "else:\n",
        "  print(\"not found\")"
      ],
      "metadata": {
        "colab": {
          "base_uri": "https://localhost:8080/"
        },
        "id": "WDGwep8uhT2H",
        "outputId": "7aa89d8a-cd49-4597-9b85-8ceec99f5c1d"
      },
      "execution_count": 55,
      "outputs": [
        {
          "output_type": "stream",
          "name": "stdout",
          "text": [
            "a is there \n"
          ]
        }
      ]
    },
    {
      "cell_type": "code",
      "source": [
        "import random as r\n",
        "print(r.choice(s))\n",
        "r.seed(10)\n",
        "print(r.random())"
      ],
      "metadata": {
        "colab": {
          "base_uri": "https://localhost:8080/"
        },
        "id": "iTCmodmNiLuC",
        "outputId": "3f472205-3dc1-417e-9496-55b6ec178ed9"
      },
      "execution_count": 56,
      "outputs": [
        {
          "output_type": "stream",
          "name": "stdout",
          "text": [
            "aaaa\n",
            "0.5714025946899135\n"
          ]
        }
      ]
    },
    {
      "cell_type": "code",
      "source": [
        "i=input(\"Spin ? y: YES n:NO\")\n",
        "if i==\"y\":\n",
        "  print(r.choice(s))\n",
        "else:\n",
        "  print(\"No\")"
      ],
      "metadata": {
        "colab": {
          "base_uri": "https://localhost:8080/"
        },
        "id": "pXB6WW-8oIHN",
        "outputId": "32082a65-3f05-45c9-a706-44a3490e8ff1"
      },
      "execution_count": 57,
      "outputs": [
        {
          "output_type": "stream",
          "name": "stdout",
          "text": [
            "Spin ? y: YES n:NOy\n",
            "c\n"
          ]
        }
      ]
    },
    {
      "cell_type": "code",
      "source": [
        "code=[\"NEW\",\"HOLI\",\"SALE\"]\n",
        "prices=[100,400,654]\n",
        "c=input(\"Enter code :\")\n",
        "if c in code:\n",
        "  print(\"valid\")\n",
        "  print( prices[code.index(c)])\n",
        "else:\n",
        "  print(\"not valid\")"
      ],
      "metadata": {
        "colab": {
          "base_uri": "https://localhost:8080/"
        },
        "id": "oXv6kX1CqmDE",
        "outputId": "3e06a302-7f10-46a4-9312-bee3d3eae85a"
      },
      "execution_count": 58,
      "outputs": [
        {
          "output_type": "stream",
          "name": "stdout",
          "text": [
            "Enter code :NEW\n",
            "valid\n",
            "100\n"
          ]
        }
      ]
    },
    {
      "cell_type": "code",
      "source": [
        "i=int(input(\"Enter\"))\n",
        "print(type(i))"
      ],
      "metadata": {
        "colab": {
          "base_uri": "https://localhost:8080/"
        },
        "id": "WvltItuWsbLe",
        "outputId": "42f3c774-8d7d-4373-b967-f0ec729d9416"
      },
      "execution_count": 59,
      "outputs": [
        {
          "output_type": "stream",
          "name": "stdout",
          "text": [
            "Enter345\n",
            "<class 'int'>\n"
          ]
        }
      ]
    },
    {
      "cell_type": "code",
      "source": [
        "a=int(input(\"value 1:\"))\n",
        "b=int(input(\"value 2:\"))\n",
        "print(a+b)"
      ],
      "metadata": {
        "colab": {
          "base_uri": "https://localhost:8080/"
        },
        "id": "t0Ne5hOBtcIx",
        "outputId": "cfbc80a7-17b8-48bf-a85d-b5ba765d0c32"
      },
      "execution_count": 61,
      "outputs": [
        {
          "output_type": "stream",
          "name": "stdout",
          "text": [
            "value 1:3\n",
            "value 2:5\n",
            "8\n"
          ]
        }
      ]
    },
    {
      "cell_type": "code",
      "source": [
        "for i in range(10,1,-1):\n",
        "  print(i)"
      ],
      "metadata": {
        "colab": {
          "base_uri": "https://localhost:8080/"
        },
        "id": "qoJ3EmWm1eSO",
        "outputId": "f321c5d6-c172-43fd-adf0-ed56a8fed156"
      },
      "execution_count": 69,
      "outputs": [
        {
          "output_type": "stream",
          "name": "stdout",
          "text": [
            "10\n",
            "9\n",
            "8\n",
            "7\n",
            "6\n",
            "5\n",
            "4\n",
            "3\n",
            "2\n"
          ]
        }
      ]
    },
    {
      "cell_type": "code",
      "source": [
        "st=input(\"Enter str\")\n",
        "for i in st:\n",
        "  pass\n",
        "print(\"last char : \", i)"
      ],
      "metadata": {
        "colab": {
          "base_uri": "https://localhost:8080/"
        },
        "id": "vwXnN0U42ki0",
        "outputId": "21179d57-a6d2-4814-a616-831b27a85c57"
      },
      "execution_count": 72,
      "outputs": [
        {
          "output_type": "stream",
          "name": "stdout",
          "text": [
            "Enter strZmz\n",
            "last char :  z\n"
          ]
        }
      ]
    },
    {
      "cell_type": "code",
      "source": [
        "num=int(input(\"Enter Row : \"))\n",
        "for i in range(1,num+1):\n",
        "  for j in range(1,num-i+1):\n",
        "   print(\" \",end=\"\")\n",
        "  for k in range(1,2*i):\n",
        "    print(\"*\",end=\"\")\n",
        "  print()\n"
      ],
      "metadata": {
        "colab": {
          "base_uri": "https://localhost:8080/"
        },
        "id": "6SsJLtXU3O25",
        "outputId": "52dd68d1-da01-4171-e22c-8238877d9c38"
      },
      "execution_count": 93,
      "outputs": [
        {
          "output_type": "stream",
          "name": "stdout",
          "text": [
            "Enter Row : 12\n",
            "           *\n",
            "          ***\n",
            "         *****\n",
            "        *******\n",
            "       *********\n",
            "      ***********\n",
            "     *************\n",
            "    ***************\n",
            "   *****************\n",
            "  *******************\n",
            " *********************\n",
            "***********************\n"
          ]
        }
      ]
    },
    {
      "cell_type": "code",
      "source": [
        "lst=[1,3,4,24,2,4,1,2,4,24,43,34,44,44,33,33,55,1,1,1,1,1,1,1,1,1,12]\n",
        "lst2=[12,43,1,34]\n",
        "ans=[]\n",
        "import time as t\n",
        "start=t.time()\n",
        "for i in lst:\n",
        "  if i in lst2:\n",
        "   if i not in ans:\n",
        "    ans.append(i)\n",
        "  else:\n",
        "    pass\n",
        "end=t.time()\n",
        "print(ans)\n",
        "print(end-start)"
      ],
      "metadata": {
        "colab": {
          "base_uri": "https://localhost:8080/"
        },
        "id": "FaefYOy374eF",
        "outputId": "fb1c2252-421d-4fe3-cbdf-86feaf384fe0"
      },
      "execution_count": 111,
      "outputs": [
        {
          "output_type": "stream",
          "name": "stdout",
          "text": [
            "[1, 43, 34, 12]\n",
            "0.00013327598571777344\n"
          ]
        }
      ]
    },
    {
      "cell_type": "code",
      "source": [
        "l=40\n",
        "u=500\n",
        "for i in range(l,u+1):\n",
        "  if i>1:\n",
        "    for j in range(2,i//2):\n",
        "      if i%j"
      ],
      "metadata": {
        "id": "BxqexRoJDFlL"
      },
      "execution_count": null,
      "outputs": []
    },
    {
      "cell_type": "code",
      "source": [
        "l1=[1,2,3,4,5]\n",
        "l2=[num**2 for num in l1]\n",
        "print(l2)\n",
        "l3=[num for num in range(30) if num%2==0]\n",
        "print(l3)"
      ],
      "metadata": {
        "id": "INIndsuQEasQ",
        "outputId": "96f25d8d-4c75-4d49-c789-9562d37b15f6",
        "colab": {
          "base_uri": "https://localhost:8080/"
        }
      },
      "execution_count": 113,
      "outputs": [
        {
          "output_type": "stream",
          "name": "stdout",
          "text": [
            "[1, 4, 9, 16, 25]\n",
            "[0, 2, 4, 6, 8, 10, 12, 14, 16, 18, 20, 22, 24, 26, 28]\n"
          ]
        }
      ]
    }
  ]
}